{
  "nbformat": 4,
  "nbformat_minor": 0,
  "metadata": {
    "colab": {
      "name": "09-3 LSTM & GRU cell.ipynb",
      "provenance": [],
      "authorship_tag": "ABX9TyOaoN0iHOdsLWon5gjWY3NP",
      "include_colab_link": true
    },
    "kernelspec": {
      "name": "python3",
      "display_name": "Python 3"
    },
    "language_info": {
      "name": "python"
    }
  },
  "cells": [
    {
      "cell_type": "markdown",
      "metadata": {
        "id": "view-in-github",
        "colab_type": "text"
      },
      "source": [
        "<a href=\"https://colab.research.google.com/github/TypeMIN/ML_study/blob/master/09_3_LSTM_%26_GRU_cell.ipynb\" target=\"_parent\"><img src=\"https://colab.research.google.com/assets/colab-badge.svg\" alt=\"Open In Colab\"/></a>"
      ]
    },
    {
      "cell_type": "markdown",
      "source": [
        "# LSTM과 GRU 셀"
      ],
      "metadata": {
        "id": "NwgUK4tmT-Fy"
      }
    },
    {
      "cell_type": "markdown",
      "source": [
        "## LSTM 신경망 훈련하기"
      ],
      "metadata": {
        "id": "7EkOP2vuUBH-"
      }
    },
    {
      "cell_type": "code",
      "execution_count": 1,
      "metadata": {
        "colab": {
          "base_uri": "https://localhost:8080/"
        },
        "id": "g0FDy1vIN8mv",
        "outputId": "f3c9203b-381e-4545-d9e5-7063c5c273cb"
      },
      "outputs": [
        {
          "output_type": "stream",
          "name": "stdout",
          "text": [
            "Downloading data from https://storage.googleapis.com/tensorflow/tf-keras-datasets/imdb.npz\n",
            "17465344/17464789 [==============================] - 0s 0us/step\n",
            "17473536/17464789 [==============================] - 0s 0us/step\n"
          ]
        }
      ],
      "source": [
        "from tensorflow.keras.datasets import imdb\n",
        "from sklearn.model_selection import train_test_split\n",
        "(train_input, train_target), (test_input, test_target) = imdb.load_data(num_words=500)\n",
        "train_input, val_input, train_target, val_target = train_test_split(train_input, train_target, test_size=0.2, random_state=42)"
      ]
    },
    {
      "cell_type": "code",
      "source": [
        "from tensorflow.keras.preprocessing.sequence import pad_sequences\n",
        "train_seq = pad_sequences(train_input, maxlen=100)\n",
        "val_seq = pad_sequences(val_input, maxlen=100)"
      ],
      "metadata": {
        "id": "5aQy1WGWPEZj"
      },
      "execution_count": 4,
      "outputs": []
    },
    {
      "cell_type": "code",
      "source": [
        "from tensorflow import keras\n",
        "model = keras.Sequential()\n",
        "model.add(keras.layers.Embedding(500, 16, input_length=100))\n",
        "model.add(keras.layers.LSTM(8))\n",
        "model.add(keras.layers.Dense(1, activation='sigmoid'))"
      ],
      "metadata": {
        "id": "5GvVTA8aPPra"
      },
      "execution_count": 5,
      "outputs": []
    },
    {
      "cell_type": "code",
      "source": [
        "model.summary()"
      ],
      "metadata": {
        "colab": {
          "base_uri": "https://localhost:8080/"
        },
        "id": "uoGoltfnPkhL",
        "outputId": "6e66a8da-8ea9-4fa9-e7b8-c1d601d28f84"
      },
      "execution_count": 6,
      "outputs": [
        {
          "output_type": "stream",
          "name": "stdout",
          "text": [
            "Model: \"sequential\"\n",
            "_________________________________________________________________\n",
            " Layer (type)                Output Shape              Param #   \n",
            "=================================================================\n",
            " embedding (Embedding)       (None, 100, 16)           8000      \n",
            "                                                                 \n",
            " lstm (LSTM)                 (None, 8)                 800       \n",
            "                                                                 \n",
            " dense (Dense)               (None, 1)                 9         \n",
            "                                                                 \n",
            "=================================================================\n",
            "Total params: 8,809\n",
            "Trainable params: 8,809\n",
            "Non-trainable params: 0\n",
            "_________________________________________________________________\n"
          ]
        }
      ]
    },
    {
      "cell_type": "code",
      "source": [
        "rmsprop = keras.optimizers.RMSprop(learning_rate=1e-4)\n",
        "model.compile(optimizer=rmsprop, loss='binary_crossentropy', metrics=['accuracy'])\n",
        "checkpoint_cb = keras.callbacks.ModelCheckpoint('best-lstm-model.h5')\n",
        "early_stopping_cb = keras.callbacks.EarlyStopping(patience=3, restore_best_weights=True)\n",
        "history = model.fit(train_seq, train_target, epochs=100, batch_size=64, validation_data=(val_seq, val_target), callbacks=[checkpoint_cb, early_stopping_cb])"
      ],
      "metadata": {
        "colab": {
          "base_uri": "https://localhost:8080/"
        },
        "id": "vTJ1LiAVPluX",
        "outputId": "8ff30786-3d15-4e3c-fe6c-bd0caacbb78b"
      },
      "execution_count": 8,
      "outputs": [
        {
          "output_type": "stream",
          "name": "stdout",
          "text": [
            "Epoch 1/100\n",
            "313/313 [==============================] - 17s 46ms/step - loss: 0.6920 - accuracy: 0.5446 - val_loss: 0.6906 - val_accuracy: 0.5976\n",
            "Epoch 2/100\n",
            "313/313 [==============================] - 23s 73ms/step - loss: 0.6879 - accuracy: 0.6271 - val_loss: 0.6842 - val_accuracy: 0.6568\n",
            "Epoch 3/100\n",
            "313/313 [==============================] - 13s 41ms/step - loss: 0.6741 - accuracy: 0.6747 - val_loss: 0.6580 - val_accuracy: 0.6790\n",
            "Epoch 4/100\n",
            "313/313 [==============================] - 19s 61ms/step - loss: 0.6043 - accuracy: 0.7181 - val_loss: 0.5721 - val_accuracy: 0.7316\n",
            "Epoch 5/100\n",
            "313/313 [==============================] - 19s 61ms/step - loss: 0.5536 - accuracy: 0.7437 - val_loss: 0.5441 - val_accuracy: 0.7450\n",
            "Epoch 6/100\n",
            "313/313 [==============================] - 18s 59ms/step - loss: 0.5290 - accuracy: 0.7573 - val_loss: 0.5223 - val_accuracy: 0.7572\n",
            "Epoch 7/100\n",
            "313/313 [==============================] - 18s 59ms/step - loss: 0.5083 - accuracy: 0.7684 - val_loss: 0.5054 - val_accuracy: 0.7724\n",
            "Epoch 8/100\n",
            "313/313 [==============================] - 19s 62ms/step - loss: 0.4919 - accuracy: 0.7774 - val_loss: 0.4911 - val_accuracy: 0.7770\n",
            "Epoch 9/100\n",
            "313/313 [==============================] - 18s 58ms/step - loss: 0.4771 - accuracy: 0.7856 - val_loss: 0.4799 - val_accuracy: 0.7822\n",
            "Epoch 10/100\n",
            "313/313 [==============================] - 18s 59ms/step - loss: 0.4650 - accuracy: 0.7921 - val_loss: 0.4706 - val_accuracy: 0.7864\n",
            "Epoch 11/100\n",
            "313/313 [==============================] - 18s 56ms/step - loss: 0.4553 - accuracy: 0.7959 - val_loss: 0.4624 - val_accuracy: 0.7886\n",
            "Epoch 12/100\n",
            "313/313 [==============================] - 18s 57ms/step - loss: 0.4466 - accuracy: 0.8000 - val_loss: 0.4559 - val_accuracy: 0.7894\n",
            "Epoch 13/100\n",
            "313/313 [==============================] - 22s 72ms/step - loss: 0.4394 - accuracy: 0.8031 - val_loss: 0.4504 - val_accuracy: 0.7934\n",
            "Epoch 14/100\n",
            "313/313 [==============================] - 22s 71ms/step - loss: 0.4341 - accuracy: 0.8037 - val_loss: 0.4612 - val_accuracy: 0.7836\n",
            "Epoch 15/100\n",
            "313/313 [==============================] - 23s 74ms/step - loss: 0.4302 - accuracy: 0.8068 - val_loss: 0.4438 - val_accuracy: 0.7978\n",
            "Epoch 16/100\n",
            "313/313 [==============================] - 21s 66ms/step - loss: 0.4257 - accuracy: 0.8090 - val_loss: 0.4489 - val_accuracy: 0.7920\n",
            "Epoch 17/100\n",
            "313/313 [==============================] - 14s 45ms/step - loss: 0.4231 - accuracy: 0.8098 - val_loss: 0.4413 - val_accuracy: 0.7988\n",
            "Epoch 18/100\n",
            "313/313 [==============================] - 13s 40ms/step - loss: 0.4210 - accuracy: 0.8102 - val_loss: 0.4411 - val_accuracy: 0.7986\n",
            "Epoch 19/100\n",
            "313/313 [==============================] - 12s 40ms/step - loss: 0.4191 - accuracy: 0.8113 - val_loss: 0.4359 - val_accuracy: 0.7982\n",
            "Epoch 20/100\n",
            "313/313 [==============================] - 13s 40ms/step - loss: 0.4171 - accuracy: 0.8119 - val_loss: 0.4348 - val_accuracy: 0.7994\n",
            "Epoch 21/100\n",
            "313/313 [==============================] - 17s 56ms/step - loss: 0.4156 - accuracy: 0.8124 - val_loss: 0.4342 - val_accuracy: 0.7990\n",
            "Epoch 22/100\n",
            "313/313 [==============================] - 20s 65ms/step - loss: 0.4145 - accuracy: 0.8133 - val_loss: 0.4367 - val_accuracy: 0.7984\n",
            "Epoch 23/100\n",
            "313/313 [==============================] - 20s 65ms/step - loss: 0.4130 - accuracy: 0.8137 - val_loss: 0.4332 - val_accuracy: 0.8008\n",
            "Epoch 24/100\n",
            "313/313 [==============================] - 16s 52ms/step - loss: 0.4115 - accuracy: 0.8143 - val_loss: 0.4330 - val_accuracy: 0.8028\n",
            "Epoch 25/100\n",
            "313/313 [==============================] - 15s 47ms/step - loss: 0.4113 - accuracy: 0.8144 - val_loss: 0.4305 - val_accuracy: 0.8004\n",
            "Epoch 26/100\n",
            "313/313 [==============================] - 13s 43ms/step - loss: 0.4098 - accuracy: 0.8158 - val_loss: 0.4318 - val_accuracy: 0.7976\n",
            "Epoch 27/100\n",
            "313/313 [==============================] - 18s 57ms/step - loss: 0.4088 - accuracy: 0.8173 - val_loss: 0.4291 - val_accuracy: 0.8042\n",
            "Epoch 28/100\n",
            "313/313 [==============================] - 18s 58ms/step - loss: 0.4079 - accuracy: 0.8152 - val_loss: 0.4295 - val_accuracy: 0.8064\n",
            "Epoch 29/100\n",
            "313/313 [==============================] - 16s 52ms/step - loss: 0.4074 - accuracy: 0.8159 - val_loss: 0.4279 - val_accuracy: 0.8032\n",
            "Epoch 30/100\n",
            "313/313 [==============================] - 17s 55ms/step - loss: 0.4065 - accuracy: 0.8167 - val_loss: 0.4288 - val_accuracy: 0.8008\n",
            "Epoch 31/100\n",
            "313/313 [==============================] - 18s 59ms/step - loss: 0.4057 - accuracy: 0.8164 - val_loss: 0.4295 - val_accuracy: 0.8052\n",
            "Epoch 32/100\n",
            "313/313 [==============================] - 21s 66ms/step - loss: 0.4050 - accuracy: 0.8162 - val_loss: 0.4309 - val_accuracy: 0.8006\n"
          ]
        }
      ]
    },
    {
      "cell_type": "code",
      "source": [
        "import matplotlib.pyplot as plt\n",
        "plt.plot(history.history['loss'])\n",
        "plt.plot(history.history['val_loss'])\n",
        "plt.xlabel('epoch')\n",
        "plt.ylabel('loss')\n",
        "plt.legend(['train', 'val'])\n",
        "plt.show()"
      ],
      "metadata": {
        "colab": {
          "base_uri": "https://localhost:8080/",
          "height": 278
        },
        "id": "Gim4p0i6QPUt",
        "outputId": "d1b307e7-49b3-4f02-dd53-ce47b5def7c8"
      },
      "execution_count": 9,
      "outputs": [
        {
          "output_type": "display_data",
          "data": {
            "text/plain": [
              "<Figure size 432x288 with 1 Axes>"
            ],
            "image/png": "[encoded data removed]"
          },
          "metadata": {
            "needs_background": "light"
          }
        }
      ]
    },
    {
      "cell_type": "markdown",
      "source": [
        "## 순환층에 드롭아웃 적용하기"
      ],
      "metadata": {
        "id": "ajIuZ5-zUFh-"
      }
    },
    {
      "cell_type": "code",
      "source": [
        "model2 = keras.Sequential()\n",
        "model2.add(keras.layers.Embedding(500, 16, input_length=100))\n",
        "model2.add(keras.layers.LSTM(8, dropout=0.3))\n",
        "model2.add(keras.layers.Dense(1, activation='sigmoid'))"
      ],
      "metadata": {
        "id": "3TN1UDzNQX5n"
      },
      "execution_count": 10,
      "outputs": []
    },
    {
      "cell_type": "code",
      "source": [
        "rmsprop = keras.optimizers.RMSprop(learning_rate=1e-4)\n",
        "model2.compile(optimizer=rmsprop, loss='binary_crossentropy', metrics=['accuracy'])\n",
        "checkpoint_cb = keras.callbacks.ModelCheckpoint('best-dropout-model.h5')\n",
        "early_stopping_cb = keras.callbacks.EarlyStopping(patience=3, restore_best_weights=True)\n",
        "history = model2.fit(train_seq, train_target, epochs=100, batch_size=64, validation_data=(val_seq, val_target), callbacks=[checkpoint_cb, early_stopping_cb])"
      ],
      "metadata": {
        "colab": {
          "base_uri": "https://localhost:8080/"
        },
        "id": "rzw8NYbrQwVn",
        "outputId": "f0a0555c-3ed3-4e63-8960-d5c770c817f4"
      },
      "execution_count": 11,
      "outputs": [
        {
          "output_type": "stream",
          "name": "stdout",
          "text": [
            "Epoch 1/100\n",
            "313/313 [==============================] - 18s 50ms/step - loss: 0.6927 - accuracy: 0.5271 - val_loss: 0.6922 - val_accuracy: 0.5576\n",
            "Epoch 2/100\n",
            "313/313 [==============================] - 14s 43ms/step - loss: 0.6913 - accuracy: 0.5859 - val_loss: 0.6903 - val_accuracy: 0.5884\n",
            "Epoch 3/100\n",
            "313/313 [==============================] - 14s 43ms/step - loss: 0.6867 - accuracy: 0.6259 - val_loss: 0.6827 - val_accuracy: 0.5740\n",
            "Epoch 4/100\n",
            "313/313 [==============================] - 14s 43ms/step - loss: 0.6605 - accuracy: 0.6202 - val_loss: 0.6348 - val_accuracy: 0.7122\n",
            "Epoch 5/100\n",
            "313/313 [==============================] - 13s 43ms/step - loss: 0.6128 - accuracy: 0.7274 - val_loss: 0.6039 - val_accuracy: 0.7324\n",
            "Epoch 6/100\n",
            "313/313 [==============================] - 15s 48ms/step - loss: 0.5886 - accuracy: 0.7405 - val_loss: 0.5835 - val_accuracy: 0.7508\n",
            "Epoch 7/100\n",
            "313/313 [==============================] - 20s 63ms/step - loss: 0.5716 - accuracy: 0.7558 - val_loss: 0.5659 - val_accuracy: 0.7540\n",
            "Epoch 8/100\n",
            "313/313 [==============================] - 20s 65ms/step - loss: 0.5531 - accuracy: 0.7649 - val_loss: 0.5500 - val_accuracy: 0.7654\n",
            "Epoch 9/100\n",
            "313/313 [==============================] - 15s 47ms/step - loss: 0.5395 - accuracy: 0.7687 - val_loss: 0.5336 - val_accuracy: 0.7754\n",
            "Epoch 10/100\n",
            "313/313 [==============================] - 13s 42ms/step - loss: 0.5236 - accuracy: 0.7755 - val_loss: 0.5193 - val_accuracy: 0.7772\n",
            "Epoch 11/100\n",
            "313/313 [==============================] - 13s 42ms/step - loss: 0.5094 - accuracy: 0.7812 - val_loss: 0.5068 - val_accuracy: 0.7808\n",
            "Epoch 12/100\n",
            "313/313 [==============================] - 13s 42ms/step - loss: 0.4970 - accuracy: 0.7840 - val_loss: 0.4948 - val_accuracy: 0.7820\n",
            "Epoch 13/100\n",
            "313/313 [==============================] - 15s 46ms/step - loss: 0.4861 - accuracy: 0.7872 - val_loss: 0.4867 - val_accuracy: 0.7846\n",
            "Epoch 14/100\n",
            "313/313 [==============================] - 20s 64ms/step - loss: 0.4778 - accuracy: 0.7867 - val_loss: 0.4771 - val_accuracy: 0.7862\n",
            "Epoch 15/100\n",
            "313/313 [==============================] - 20s 63ms/step - loss: 0.4713 - accuracy: 0.7918 - val_loss: 0.4712 - val_accuracy: 0.7866\n",
            "Epoch 16/100\n",
            "313/313 [==============================] - 18s 58ms/step - loss: 0.4628 - accuracy: 0.7942 - val_loss: 0.4667 - val_accuracy: 0.7856\n",
            "Epoch 17/100\n",
            "313/313 [==============================] - 17s 56ms/step - loss: 0.4564 - accuracy: 0.7969 - val_loss: 0.4617 - val_accuracy: 0.7882\n",
            "Epoch 18/100\n",
            "313/313 [==============================] - 20s 63ms/step - loss: 0.4543 - accuracy: 0.7957 - val_loss: 0.4578 - val_accuracy: 0.7906\n",
            "Epoch 19/100\n",
            "313/313 [==============================] - 23s 74ms/step - loss: 0.4488 - accuracy: 0.7987 - val_loss: 0.4566 - val_accuracy: 0.7908\n",
            "Epoch 20/100\n",
            "313/313 [==============================] - 23s 73ms/step - loss: 0.4475 - accuracy: 0.7966 - val_loss: 0.4523 - val_accuracy: 0.7924\n",
            "Epoch 21/100\n",
            "313/313 [==============================] - 23s 74ms/step - loss: 0.4431 - accuracy: 0.8005 - val_loss: 0.4494 - val_accuracy: 0.7922\n",
            "Epoch 22/100\n",
            "313/313 [==============================] - 16s 50ms/step - loss: 0.4386 - accuracy: 0.8038 - val_loss: 0.4502 - val_accuracy: 0.7938\n",
            "Epoch 23/100\n",
            "313/313 [==============================] - 14s 45ms/step - loss: 0.4376 - accuracy: 0.8032 - val_loss: 0.4477 - val_accuracy: 0.7900\n",
            "Epoch 24/100\n",
            "313/313 [==============================] - 15s 47ms/step - loss: 0.4351 - accuracy: 0.8034 - val_loss: 0.4433 - val_accuracy: 0.7982\n",
            "Epoch 25/100\n",
            "313/313 [==============================] - 13s 42ms/step - loss: 0.4333 - accuracy: 0.8055 - val_loss: 0.4427 - val_accuracy: 0.8004\n",
            "Epoch 26/100\n",
            "313/313 [==============================] - 14s 43ms/step - loss: 0.4302 - accuracy: 0.8034 - val_loss: 0.4412 - val_accuracy: 0.7964\n",
            "Epoch 27/100\n",
            "313/313 [==============================] - 13s 42ms/step - loss: 0.4293 - accuracy: 0.8062 - val_loss: 0.4440 - val_accuracy: 0.7910\n",
            "Epoch 28/100\n",
            "313/313 [==============================] - 14s 45ms/step - loss: 0.4291 - accuracy: 0.8050 - val_loss: 0.4383 - val_accuracy: 0.7984\n",
            "Epoch 29/100\n",
            "313/313 [==============================] - 17s 55ms/step - loss: 0.4256 - accuracy: 0.8096 - val_loss: 0.4387 - val_accuracy: 0.8020\n",
            "Epoch 30/100\n",
            "313/313 [==============================] - 17s 54ms/step - loss: 0.4239 - accuracy: 0.8100 - val_loss: 0.4362 - val_accuracy: 0.8010\n",
            "Epoch 31/100\n",
            "313/313 [==============================] - 17s 55ms/step - loss: 0.4235 - accuracy: 0.8082 - val_loss: 0.4374 - val_accuracy: 0.7982\n",
            "Epoch 32/100\n",
            "313/313 [==============================] - 13s 41ms/step - loss: 0.4231 - accuracy: 0.8098 - val_loss: 0.4345 - val_accuracy: 0.8002\n",
            "Epoch 33/100\n",
            "313/313 [==============================] - 13s 41ms/step - loss: 0.4208 - accuracy: 0.8094 - val_loss: 0.4340 - val_accuracy: 0.8014\n",
            "Epoch 34/100\n",
            "313/313 [==============================] - 13s 41ms/step - loss: 0.4203 - accuracy: 0.8117 - val_loss: 0.4334 - val_accuracy: 0.8012\n",
            "Epoch 35/100\n",
            "313/313 [==============================] - 13s 41ms/step - loss: 0.4201 - accuracy: 0.8116 - val_loss: 0.4351 - val_accuracy: 0.8024\n",
            "Epoch 36/100\n",
            "313/313 [==============================] - 13s 41ms/step - loss: 0.4205 - accuracy: 0.8106 - val_loss: 0.4345 - val_accuracy: 0.8004\n",
            "Epoch 37/100\n",
            "313/313 [==============================] - 13s 42ms/step - loss: 0.4189 - accuracy: 0.8120 - val_loss: 0.4312 - val_accuracy: 0.8052\n",
            "Epoch 38/100\n",
            "313/313 [==============================] - 13s 42ms/step - loss: 0.4174 - accuracy: 0.8118 - val_loss: 0.4350 - val_accuracy: 0.7958\n",
            "Epoch 39/100\n",
            "313/313 [==============================] - 13s 42ms/step - loss: 0.4154 - accuracy: 0.8138 - val_loss: 0.4313 - val_accuracy: 0.8008\n",
            "Epoch 40/100\n",
            "313/313 [==============================] - 13s 41ms/step - loss: 0.4147 - accuracy: 0.8126 - val_loss: 0.4297 - val_accuracy: 0.8040\n",
            "Epoch 41/100\n",
            "313/313 [==============================] - 13s 41ms/step - loss: 0.4127 - accuracy: 0.8166 - val_loss: 0.4290 - val_accuracy: 0.8026\n",
            "Epoch 42/100\n",
            "313/313 [==============================] - 14s 44ms/step - loss: 0.4107 - accuracy: 0.8171 - val_loss: 0.4298 - val_accuracy: 0.8050\n",
            "Epoch 43/100\n",
            "313/313 [==============================] - 13s 42ms/step - loss: 0.4129 - accuracy: 0.8144 - val_loss: 0.4284 - val_accuracy: 0.8060\n",
            "Epoch 44/100\n",
            "313/313 [==============================] - 13s 42ms/step - loss: 0.4124 - accuracy: 0.8139 - val_loss: 0.4290 - val_accuracy: 0.8058\n",
            "Epoch 45/100\n",
            "313/313 [==============================] - 13s 42ms/step - loss: 0.4117 - accuracy: 0.8147 - val_loss: 0.4293 - val_accuracy: 0.8034\n",
            "Epoch 46/100\n",
            "313/313 [==============================] - 13s 42ms/step - loss: 0.4094 - accuracy: 0.8158 - val_loss: 0.4278 - val_accuracy: 0.8038\n",
            "Epoch 47/100\n",
            "313/313 [==============================] - 13s 41ms/step - loss: 0.4110 - accuracy: 0.8127 - val_loss: 0.4308 - val_accuracy: 0.7996\n",
            "Epoch 48/100\n",
            "313/313 [==============================] - 13s 41ms/step - loss: 0.4084 - accuracy: 0.8152 - val_loss: 0.4283 - val_accuracy: 0.8058\n",
            "Epoch 49/100\n",
            "313/313 [==============================] - 13s 41ms/step - loss: 0.4091 - accuracy: 0.8148 - val_loss: 0.4269 - val_accuracy: 0.8044\n",
            "Epoch 50/100\n",
            "313/313 [==============================] - 13s 41ms/step - loss: 0.4094 - accuracy: 0.8156 - val_loss: 0.4270 - val_accuracy: 0.8038\n",
            "Epoch 51/100\n",
            "313/313 [==============================] - 13s 41ms/step - loss: 0.4075 - accuracy: 0.8177 - val_loss: 0.4288 - val_accuracy: 0.8050\n",
            "Epoch 52/100\n",
            "313/313 [==============================] - 13s 41ms/step - loss: 0.4070 - accuracy: 0.8149 - val_loss: 0.4280 - val_accuracy: 0.8058\n"
          ]
        }
      ]
    },
    {
      "cell_type": "code",
      "source": [
        "plt.plot(history.history['loss'])\n",
        "plt.plot(history.history['val_loss'])\n",
        "plt.xlabel('epoch')\n",
        "plt.ylabel('loss')\n",
        "plt.legend(['train', 'val'])\n",
        "plt.show()"
      ],
      "metadata": {
        "colab": {
          "base_uri": "https://localhost:8080/",
          "height": 278
        },
        "id": "FSBFgLPZRcaR",
        "outputId": "1b77ac1c-421e-4e90-81bd-89b0a72482da"
      },
      "execution_count": 12,
      "outputs": [
        {
          "output_type": "display_data",
          "data": {
            "text/plain": [
              "<Figure size 432x288 with 1 Axes>"
            ],
            "image/png": "[encoded data removed]"
          },
          "metadata": {
            "needs_background": "light"
          }
        }
      ]
    },
    {
      "cell_type": "markdown",
      "source": [
        "## 2개의 층을 연결하기"
      ],
      "metadata": {
        "id": "QyLGhsRQUIwX"
      }
    },
    {
      "cell_type": "code",
      "source": [
        "model3 = keras.Sequential()\n",
        "model3.add(keras.layers.Embedding(500, 16, input_length=100))\n",
        "model3.add(keras.layers.LSTM(8, dropout=0.3, return_sequences=True))\n",
        "model3.add(keras.layers.LSTM(8, dropout=0.3))\n",
        "model3.add(keras.layers.Dense(1, activation='sigmoid'))"
      ],
      "metadata": {
        "id": "DH9bmUhoRdMt"
      },
      "execution_count": 13,
      "outputs": []
    },
    {
      "cell_type": "code",
      "source": [
        "model3.summary()"
      ],
      "metadata": {
        "colab": {
          "base_uri": "https://localhost:8080/"
        },
        "id": "jYN3otdVR8FI",
        "outputId": "49d7cebb-1eeb-4276-b933-40cc6eea88f6"
      },
      "execution_count": 14,
      "outputs": [
        {
          "output_type": "stream",
          "name": "stdout",
          "text": [
            "Model: \"sequential_2\"\n",
            "_________________________________________________________________\n",
            " Layer (type)                Output Shape              Param #   \n",
            "=================================================================\n",
            " embedding_2 (Embedding)     (None, 100, 16)           8000      \n",
            "                                                                 \n",
            " lstm_2 (LSTM)               (None, 100, 8)            800       \n",
            "                                                                 \n",
            " lstm_3 (LSTM)               (None, 8)                 544       \n",
            "                                                                 \n",
            " dense_2 (Dense)             (None, 1)                 9         \n",
            "                                                                 \n",
            "=================================================================\n",
            "Total params: 9,353\n",
            "Trainable params: 9,353\n",
            "Non-trainable params: 0\n",
            "_________________________________________________________________\n"
          ]
        }
      ]
    },
    {
      "cell_type": "code",
      "source": [
        "rmsprop = keras.optimizers.RMSprop(learning_rate=1e-4)\n",
        "model3.compile(optimizer=rmsprop, loss='binary_crossentropy', metrics=['accuracy'])\n",
        "checkpoint_cb = keras.callbacks.ModelCheckpoint('best-2rnn-model.h5')\n",
        "early_stopping_cb = keras.callbacks.EarlyStopping(patience=3, restore_best_weights=True)\n",
        "history = model3.fit(train_seq, train_target, epochs=100, batch_size=64, validation_data=(val_seq, val_target), callbacks=[checkpoint_cb, early_stopping_cb])"
      ],
      "metadata": {
        "colab": {
          "base_uri": "https://localhost:8080/"
        },
        "id": "VbQuOKhmSBcM",
        "outputId": "81299610-a365-4c40-e6c1-272525d7628e"
      },
      "execution_count": 16,
      "outputs": [
        {
          "output_type": "stream",
          "name": "stdout",
          "text": [
            "Epoch 1/100\n",
            "313/313 [==============================] - 31s 84ms/step - loss: 0.6927 - accuracy: 0.5353 - val_loss: 0.6921 - val_accuracy: 0.5708\n",
            "Epoch 2/100\n",
            "313/313 [==============================] - 25s 81ms/step - loss: 0.6905 - accuracy: 0.5990 - val_loss: 0.6882 - val_accuracy: 0.6302\n",
            "Epoch 3/100\n",
            "313/313 [==============================] - 25s 81ms/step - loss: 0.6813 - accuracy: 0.6399 - val_loss: 0.6696 - val_accuracy: 0.6702\n",
            "Epoch 4/100\n",
            "313/313 [==============================] - 25s 81ms/step - loss: 0.6378 - accuracy: 0.6780 - val_loss: 0.5948 - val_accuracy: 0.7056\n",
            "Epoch 5/100\n",
            "313/313 [==============================] - 26s 84ms/step - loss: 0.5614 - accuracy: 0.7233 - val_loss: 0.5419 - val_accuracy: 0.7334\n",
            "Epoch 6/100\n",
            "313/313 [==============================] - 26s 84ms/step - loss: 0.5295 - accuracy: 0.7445 - val_loss: 0.5141 - val_accuracy: 0.7512\n",
            "Epoch 7/100\n",
            "313/313 [==============================] - 26s 82ms/step - loss: 0.5067 - accuracy: 0.7598 - val_loss: 0.4930 - val_accuracy: 0.7670\n",
            "Epoch 8/100\n",
            "313/313 [==============================] - 25s 81ms/step - loss: 0.4900 - accuracy: 0.7688 - val_loss: 0.4794 - val_accuracy: 0.7776\n",
            "Epoch 9/100\n",
            "313/313 [==============================] - 25s 81ms/step - loss: 0.4782 - accuracy: 0.7763 - val_loss: 0.4701 - val_accuracy: 0.7818\n",
            "Epoch 10/100\n",
            "313/313 [==============================] - 25s 80ms/step - loss: 0.4669 - accuracy: 0.7842 - val_loss: 0.4622 - val_accuracy: 0.7852\n",
            "Epoch 11/100\n",
            "313/313 [==============================] - 25s 80ms/step - loss: 0.4606 - accuracy: 0.7874 - val_loss: 0.4571 - val_accuracy: 0.7882\n",
            "Epoch 12/100\n",
            "313/313 [==============================] - 25s 81ms/step - loss: 0.4569 - accuracy: 0.7896 - val_loss: 0.4531 - val_accuracy: 0.7918\n",
            "Epoch 13/100\n",
            "313/313 [==============================] - 25s 79ms/step - loss: 0.4519 - accuracy: 0.7911 - val_loss: 0.4491 - val_accuracy: 0.7914\n",
            "Epoch 14/100\n",
            "313/313 [==============================] - 25s 81ms/step - loss: 0.4478 - accuracy: 0.7925 - val_loss: 0.4477 - val_accuracy: 0.7938\n",
            "Epoch 15/100\n",
            "313/313 [==============================] - 25s 81ms/step - loss: 0.4432 - accuracy: 0.7968 - val_loss: 0.4444 - val_accuracy: 0.7946\n",
            "Epoch 16/100\n",
            "313/313 [==============================] - 26s 83ms/step - loss: 0.4408 - accuracy: 0.7988 - val_loss: 0.4432 - val_accuracy: 0.7948\n",
            "Epoch 17/100\n",
            "313/313 [==============================] - 25s 80ms/step - loss: 0.4405 - accuracy: 0.7981 - val_loss: 0.4420 - val_accuracy: 0.7936\n",
            "Epoch 18/100\n",
            "313/313 [==============================] - 25s 80ms/step - loss: 0.4356 - accuracy: 0.8022 - val_loss: 0.4412 - val_accuracy: 0.7970\n",
            "Epoch 19/100\n",
            "313/313 [==============================] - 25s 81ms/step - loss: 0.4360 - accuracy: 0.8011 - val_loss: 0.4393 - val_accuracy: 0.7968\n",
            "Epoch 20/100\n",
            "313/313 [==============================] - 25s 80ms/step - loss: 0.4322 - accuracy: 0.8022 - val_loss: 0.4399 - val_accuracy: 0.7934\n",
            "Epoch 21/100\n",
            "313/313 [==============================] - 25s 79ms/step - loss: 0.4334 - accuracy: 0.8003 - val_loss: 0.4371 - val_accuracy: 0.7966\n",
            "Epoch 22/100\n",
            "313/313 [==============================] - 25s 80ms/step - loss: 0.4324 - accuracy: 0.8015 - val_loss: 0.4360 - val_accuracy: 0.7978\n",
            "Epoch 23/100\n",
            "313/313 [==============================] - 25s 80ms/step - loss: 0.4323 - accuracy: 0.8015 - val_loss: 0.4376 - val_accuracy: 0.8018\n",
            "Epoch 24/100\n",
            "313/313 [==============================] - 25s 80ms/step - loss: 0.4291 - accuracy: 0.8019 - val_loss: 0.4353 - val_accuracy: 0.7982\n",
            "Epoch 25/100\n",
            "313/313 [==============================] - 25s 79ms/step - loss: 0.4298 - accuracy: 0.8015 - val_loss: 0.4351 - val_accuracy: 0.8012\n",
            "Epoch 26/100\n",
            "313/313 [==============================] - 25s 80ms/step - loss: 0.4261 - accuracy: 0.8074 - val_loss: 0.4341 - val_accuracy: 0.7998\n",
            "Epoch 27/100\n",
            "313/313 [==============================] - 25s 81ms/step - loss: 0.4259 - accuracy: 0.8057 - val_loss: 0.4350 - val_accuracy: 0.8020\n",
            "Epoch 28/100\n",
            "313/313 [==============================] - 26s 82ms/step - loss: 0.4252 - accuracy: 0.8054 - val_loss: 0.4392 - val_accuracy: 0.7928\n",
            "Epoch 29/100\n",
            "313/313 [==============================] - 26s 82ms/step - loss: 0.4251 - accuracy: 0.8073 - val_loss: 0.4329 - val_accuracy: 0.8014\n",
            "Epoch 30/100\n",
            "313/313 [==============================] - 25s 81ms/step - loss: 0.4254 - accuracy: 0.8060 - val_loss: 0.4328 - val_accuracy: 0.8030\n",
            "Epoch 31/100\n",
            "313/313 [==============================] - 25s 80ms/step - loss: 0.4246 - accuracy: 0.8077 - val_loss: 0.4372 - val_accuracy: 0.8004\n",
            "Epoch 32/100\n",
            "313/313 [==============================] - 25s 81ms/step - loss: 0.4210 - accuracy: 0.8081 - val_loss: 0.4353 - val_accuracy: 0.8024\n",
            "Epoch 33/100\n",
            "313/313 [==============================] - 26s 82ms/step - loss: 0.4198 - accuracy: 0.8077 - val_loss: 0.4351 - val_accuracy: 0.8034\n"
          ]
        }
      ]
    },
    {
      "cell_type": "code",
      "source": [
        "plt.plot(history.history['loss'])\n",
        "plt.plot(history.history['val_loss'])\n",
        "plt.xlabel('epoch')\n",
        "plt.ylabel('loss')\n",
        "plt.legend(['train', 'val'])\n",
        "plt.show()"
      ],
      "metadata": {
        "colab": {
          "base_uri": "https://localhost:8080/",
          "height": 278
        },
        "id": "FwyFT7VjSoKD",
        "outputId": "8f54fc89-4791-41c1-9475-b7e88f30889c"
      },
      "execution_count": 17,
      "outputs": [
        {
          "output_type": "display_data",
          "data": {
            "text/plain": [
              "<Figure size 432x288 with 1 Axes>"
            ],
            "image/png": "[encoded data removed]"
          },
          "metadata": {
            "needs_background": "light"
          }
        }
      ]
    },
    {
      "cell_type": "markdown",
      "source": [
        "## GRU 신경망 훈련하기"
      ],
      "metadata": {
        "id": "Q_9ecMLBUNEN"
      }
    },
    {
      "cell_type": "code",
      "source": [
        "model4 = keras.Sequential()\n",
        "model4.add(keras.layers.Embedding(500, 16, input_length=100))\n",
        "model4.add(keras.layers.GRU(8))\n",
        "model4.add(keras.layers.Dense(1, activation='sigmoid'))"
      ],
      "metadata": {
        "id": "2gdZeAvvS6o9"
      },
      "execution_count": 19,
      "outputs": []
    },
    {
      "cell_type": "code",
      "source": [
        "model4.summary()"
      ],
      "metadata": {
        "colab": {
          "base_uri": "https://localhost:8080/"
        },
        "id": "AmsFzaqwTH3l",
        "outputId": "bea0ddd4-98c8-4cbc-df17-9d49a836acef"
      },
      "execution_count": 20,
      "outputs": [
        {
          "output_type": "stream",
          "name": "stdout",
          "text": [
            "Model: \"sequential_4\"\n",
            "_________________________________________________________________\n",
            " Layer (type)                Output Shape              Param #   \n",
            "=================================================================\n",
            " embedding_3 (Embedding)     (None, 100, 16)           8000      \n",
            "                                                                 \n",
            " gru (GRU)                   (None, 8)                 624       \n",
            "                                                                 \n",
            " dense_3 (Dense)             (None, 1)                 9         \n",
            "                                                                 \n",
            "=================================================================\n",
            "Total params: 8,633\n",
            "Trainable params: 8,633\n",
            "Non-trainable params: 0\n",
            "_________________________________________________________________\n"
          ]
        }
      ]
    },
    {
      "cell_type": "code",
      "source": [
        "rmsprop = keras.optimizers.RMSprop(learning_rate=1e-4)\n",
        "model4.compile(optimizer=rmsprop, loss='binary_crossentropy', metrics=['accuracy'])\n",
        "checkpoint_cb = keras.callbacks.ModelCheckpoint('best-gru-model.h5')\n",
        "early_stopping_cb = keras.callbacks.EarlyStopping(patience=3, restore_best_weights=True)\n",
        "history = model4.fit(train_seq, train_target, epochs=100, batch_size=64, validation_data=(val_seq, val_target), callbacks=[checkpoint_cb, early_stopping_cb])"
      ],
      "metadata": {
        "colab": {
          "base_uri": "https://localhost:8080/"
        },
        "id": "lCJMdHNKTVST",
        "outputId": "d77b3ad3-8227-4274-d71d-a53efec9cf25"
      },
      "execution_count": 21,
      "outputs": [
        {
          "output_type": "stream",
          "name": "stdout",
          "text": [
            "Epoch 1/100\n",
            "313/313 [==============================] - 17s 46ms/step - loss: 0.6916 - accuracy: 0.5428 - val_loss: 0.6900 - val_accuracy: 0.5780\n",
            "Epoch 2/100\n",
            "313/313 [==============================] - 14s 45ms/step - loss: 0.6874 - accuracy: 0.5985 - val_loss: 0.6852 - val_accuracy: 0.6090\n",
            "Epoch 3/100\n",
            "313/313 [==============================] - 13s 43ms/step - loss: 0.6802 - accuracy: 0.6256 - val_loss: 0.6763 - val_accuracy: 0.6326\n",
            "Epoch 4/100\n",
            "313/313 [==============================] - 14s 44ms/step - loss: 0.6675 - accuracy: 0.6455 - val_loss: 0.6608 - val_accuracy: 0.6512\n",
            "Epoch 5/100\n",
            "313/313 [==============================] - 14s 44ms/step - loss: 0.6452 - accuracy: 0.6682 - val_loss: 0.6332 - val_accuracy: 0.6732\n",
            "Epoch 6/100\n",
            "313/313 [==============================] - 14s 44ms/step - loss: 0.6006 - accuracy: 0.7004 - val_loss: 0.5697 - val_accuracy: 0.7246\n",
            "Epoch 7/100\n",
            "313/313 [==============================] - 14s 44ms/step - loss: 0.5292 - accuracy: 0.7462 - val_loss: 0.5198 - val_accuracy: 0.7526\n",
            "Epoch 8/100\n",
            "313/313 [==============================] - 14s 44ms/step - loss: 0.5020 - accuracy: 0.7632 - val_loss: 0.5021 - val_accuracy: 0.7660\n",
            "Epoch 9/100\n",
            "313/313 [==============================] - 14s 44ms/step - loss: 0.4867 - accuracy: 0.7720 - val_loss: 0.4902 - val_accuracy: 0.7756\n",
            "Epoch 10/100\n",
            "313/313 [==============================] - 13s 42ms/step - loss: 0.4745 - accuracy: 0.7793 - val_loss: 0.4786 - val_accuracy: 0.7766\n",
            "Epoch 11/100\n",
            "313/313 [==============================] - 13s 43ms/step - loss: 0.4648 - accuracy: 0.7872 - val_loss: 0.4695 - val_accuracy: 0.7796\n",
            "Epoch 12/100\n",
            "313/313 [==============================] - 13s 43ms/step - loss: 0.4564 - accuracy: 0.7903 - val_loss: 0.4651 - val_accuracy: 0.7810\n",
            "Epoch 13/100\n",
            "313/313 [==============================] - 13s 43ms/step - loss: 0.4501 - accuracy: 0.7957 - val_loss: 0.4600 - val_accuracy: 0.7854\n",
            "Epoch 14/100\n",
            "313/313 [==============================] - 14s 44ms/step - loss: 0.4447 - accuracy: 0.7972 - val_loss: 0.4562 - val_accuracy: 0.7882\n",
            "Epoch 15/100\n",
            "313/313 [==============================] - 14s 44ms/step - loss: 0.4399 - accuracy: 0.8015 - val_loss: 0.4570 - val_accuracy: 0.7924\n",
            "Epoch 16/100\n",
            "313/313 [==============================] - 13s 43ms/step - loss: 0.4365 - accuracy: 0.8024 - val_loss: 0.4536 - val_accuracy: 0.7868\n",
            "Epoch 17/100\n",
            "313/313 [==============================] - 13s 43ms/step - loss: 0.4335 - accuracy: 0.8050 - val_loss: 0.4501 - val_accuracy: 0.7922\n",
            "Epoch 18/100\n",
            "313/313 [==============================] - 14s 44ms/step - loss: 0.4307 - accuracy: 0.8077 - val_loss: 0.4506 - val_accuracy: 0.7932\n",
            "Epoch 19/100\n",
            "313/313 [==============================] - 13s 43ms/step - loss: 0.4281 - accuracy: 0.8087 - val_loss: 0.4521 - val_accuracy: 0.7870\n",
            "Epoch 20/100\n",
            "313/313 [==============================] - 13s 43ms/step - loss: 0.4262 - accuracy: 0.8117 - val_loss: 0.4472 - val_accuracy: 0.7926\n",
            "Epoch 21/100\n",
            "313/313 [==============================] - 13s 43ms/step - loss: 0.4251 - accuracy: 0.8105 - val_loss: 0.4468 - val_accuracy: 0.7928\n",
            "Epoch 22/100\n",
            "313/313 [==============================] - 13s 42ms/step - loss: 0.4234 - accuracy: 0.8122 - val_loss: 0.4493 - val_accuracy: 0.7946\n",
            "Epoch 23/100\n",
            "313/313 [==============================] - 13s 42ms/step - loss: 0.4227 - accuracy: 0.8125 - val_loss: 0.4543 - val_accuracy: 0.7918\n",
            "Epoch 24/100\n",
            "313/313 [==============================] - 13s 43ms/step - loss: 0.4215 - accuracy: 0.8126 - val_loss: 0.4456 - val_accuracy: 0.7920\n",
            "Epoch 25/100\n",
            "313/313 [==============================] - 14s 43ms/step - loss: 0.4205 - accuracy: 0.8140 - val_loss: 0.4449 - val_accuracy: 0.7910\n",
            "Epoch 26/100\n",
            "313/313 [==============================] - 14s 43ms/step - loss: 0.4198 - accuracy: 0.8140 - val_loss: 0.4460 - val_accuracy: 0.7954\n",
            "Epoch 27/100\n",
            "313/313 [==============================] - 14s 43ms/step - loss: 0.4188 - accuracy: 0.8138 - val_loss: 0.4438 - val_accuracy: 0.7942\n",
            "Epoch 28/100\n",
            "313/313 [==============================] - 13s 42ms/step - loss: 0.4183 - accuracy: 0.8138 - val_loss: 0.4445 - val_accuracy: 0.7958\n",
            "Epoch 29/100\n",
            "313/313 [==============================] - 13s 43ms/step - loss: 0.4171 - accuracy: 0.8151 - val_loss: 0.4436 - val_accuracy: 0.7952\n",
            "Epoch 30/100\n",
            "313/313 [==============================] - 14s 43ms/step - loss: 0.4171 - accuracy: 0.8158 - val_loss: 0.4436 - val_accuracy: 0.7964\n",
            "Epoch 31/100\n",
            "313/313 [==============================] - 14s 44ms/step - loss: 0.4167 - accuracy: 0.8141 - val_loss: 0.4435 - val_accuracy: 0.7972\n",
            "Epoch 32/100\n",
            "313/313 [==============================] - 14s 45ms/step - loss: 0.4158 - accuracy: 0.8135 - val_loss: 0.4433 - val_accuracy: 0.7968\n",
            "Epoch 33/100\n",
            "313/313 [==============================] - 14s 44ms/step - loss: 0.4155 - accuracy: 0.8142 - val_loss: 0.4424 - val_accuracy: 0.7922\n",
            "Epoch 34/100\n",
            "313/313 [==============================] - 14s 43ms/step - loss: 0.4150 - accuracy: 0.8159 - val_loss: 0.4441 - val_accuracy: 0.7894\n",
            "Epoch 35/100\n",
            "313/313 [==============================] - 13s 43ms/step - loss: 0.4147 - accuracy: 0.8178 - val_loss: 0.4433 - val_accuracy: 0.7898\n",
            "Epoch 36/100\n",
            "313/313 [==============================] - 13s 43ms/step - loss: 0.4143 - accuracy: 0.8156 - val_loss: 0.4415 - val_accuracy: 0.7926\n",
            "Epoch 37/100\n",
            "313/313 [==============================] - 13s 43ms/step - loss: 0.4139 - accuracy: 0.8160 - val_loss: 0.4412 - val_accuracy: 0.7968\n",
            "Epoch 38/100\n",
            "313/313 [==============================] - 14s 43ms/step - loss: 0.4138 - accuracy: 0.8160 - val_loss: 0.4418 - val_accuracy: 0.7920\n",
            "Epoch 39/100\n",
            "313/313 [==============================] - 13s 43ms/step - loss: 0.4131 - accuracy: 0.8162 - val_loss: 0.4440 - val_accuracy: 0.7906\n",
            "Epoch 40/100\n",
            "313/313 [==============================] - 13s 43ms/step - loss: 0.4128 - accuracy: 0.8158 - val_loss: 0.4413 - val_accuracy: 0.7978\n"
          ]
        }
      ]
    },
    {
      "cell_type": "code",
      "source": [
        "plt.plot(history.history['loss'])\n",
        "plt.plot(history.history['val_loss'])\n",
        "plt.xlabel('epoch')\n",
        "plt.ylabel('loss')\n",
        "plt.legend(['train', 'val'])\n",
        "plt.show()"
      ],
      "metadata": {
        "colab": {
          "base_uri": "https://localhost:8080/",
          "height": 278
        },
        "id": "TeDPbOzRT3rO",
        "outputId": "c68d8973-9f36-4931-ecaa-a7251b4daf86"
      },
      "execution_count": 22,
      "outputs": [
        {
          "output_type": "display_data",
          "data": {
            "text/plain": [
              "<Figure size 432x288 with 1 Axes>"
            ],
            "image/png": "[encoded data removed]"
          },
          "metadata": {
            "needs_background": "light"
          }
        }
      ]
    },
    {
      "cell_type": "markdown",
      "source": [
        "## 마무리"
      ],
      "metadata": {
        "id": "kUMLA-cuUVQ1"
      }
    },
    {
      "cell_type": "code",
      "source": [
        "test_seq = pad_sequences(test_input, maxlen=100)\n",
        "rnn_model = keras.models.load_model('best-2rnn-model.h5')\n",
        "rnn_model.evaluate(test_seq, test_target)"
      ],
      "metadata": {
        "colab": {
          "base_uri": "https://localhost:8080/"
        },
        "id": "cELw5oJDUVDE",
        "outputId": "ec11431a-de03-4ec1-9318-d5e2de5685f5"
      },
      "execution_count": 23,
      "outputs": [
        {
          "output_type": "stream",
          "name": "stdout",
          "text": [
            "782/782 [==============================] - 12s 14ms/step - loss: 0.4291 - accuracy: 0.8010\n"
          ]
        },
        {
          "output_type": "execute_result",
          "data": {
            "text/plain": [
              "[0.42913997173309326, 0.8009600043296814]"
            ]
          },
          "metadata": {},
          "execution_count": 23
        }
      ]
    }
  ]
}