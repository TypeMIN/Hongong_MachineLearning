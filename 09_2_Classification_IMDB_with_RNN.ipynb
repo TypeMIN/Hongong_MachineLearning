{
  "nbformat": 4,
  "nbformat_minor": 0,
  "metadata": {
    "colab": {
      "name": "09-2 Classification IMDB with RNN.ipynb",
      "provenance": [],
      "authorship_tag": "ABX9TyOMqJf5++csimfD3j8OLe4v",
      "include_colab_link": true
    },
    "kernelspec": {
      "name": "python3",
      "display_name": "Python 3"
    },
    "language_info": {
      "name": "python"
    }
  },
  "cells": [
    {
      "cell_type": "markdown",
      "metadata": {
        "id": "view-in-github",
        "colab_type": "text"
      },
      "source": [
        "<a href=\"https://colab.research.google.com/github/TypeMIN/ML_study/blob/master/09_2_Classification_IMDB_with_RNN.ipynb\" target=\"_parent\"><img src=\"https://colab.research.google.com/assets/colab-badge.svg\" alt=\"Open In Colab\"/></a>"
      ]
    },
    {
      "cell_type": "markdown",
      "source": [
        "# 순환 신경망으로 IMDB 리뷰 구분하기"
      ],
      "metadata": {
        "id": "gFTBh5zwKwO8"
      }
    },
    {
      "cell_type": "markdown",
      "source": [
        "## IMDB 리뷰 데이터셋"
      ],
      "metadata": {
        "id": "MM_3tB_VKz4y"
      }
    },
    {
      "cell_type": "code",
      "execution_count": 1,
      "metadata": {
        "colab": {
          "base_uri": "https://localhost:8080/"
        },
        "id": "sj4k_veIrnwV",
        "outputId": "d0df3089-3d2b-49ea-bfc6-fa1aa82b914c"
      },
      "outputs": [
        {
          "output_type": "stream",
          "name": "stdout",
          "text": [
            "Downloading data from https://storage.googleapis.com/tensorflow/tf-keras-datasets/imdb.npz\n",
            "17465344/17464789 [==============================] - 0s 0us/step\n",
            "17473536/17464789 [==============================] - 0s 0us/step\n"
          ]
        }
      ],
      "source": [
        "from tensorflow.keras.datasets import imdb\n",
        "(train_input, train_target), (test_input, test_target) = imdb.load_data(num_words=500)"
      ]
    },
    {
      "cell_type": "code",
      "source": [
        "print(train_input.shape, test_input.shape)"
      ],
      "metadata": {
        "colab": {
          "base_uri": "https://localhost:8080/"
        },
        "id": "dqJlHLnwFe-6",
        "outputId": "8f4d55a9-3081-4e1d-e037-907b9cc2bde2"
      },
      "execution_count": 2,
      "outputs": [
        {
          "output_type": "stream",
          "name": "stdout",
          "text": [
            "(25000,) (25000,)\n"
          ]
        }
      ]
    },
    {
      "cell_type": "code",
      "source": [
        "print(len(train_input[0]))"
      ],
      "metadata": {
        "colab": {
          "base_uri": "https://localhost:8080/"
        },
        "id": "FGp05JVdFmXN",
        "outputId": "c5045659-13d6-4ce3-fb81-9d5251f90fff"
      },
      "execution_count": 3,
      "outputs": [
        {
          "output_type": "stream",
          "name": "stdout",
          "text": [
            "218\n"
          ]
        }
      ]
    },
    {
      "cell_type": "code",
      "source": [
        "print(len(train_input[1]))"
      ],
      "metadata": {
        "colab": {
          "base_uri": "https://localhost:8080/"
        },
        "id": "B7ZdAK-3FtZR",
        "outputId": "aa6e6dd5-dfe1-45fe-bb24-70b77de1fee6"
      },
      "execution_count": 4,
      "outputs": [
        {
          "output_type": "stream",
          "name": "stdout",
          "text": [
            "189\n"
          ]
        }
      ]
    },
    {
      "cell_type": "code",
      "source": [
        "print(train_input[0])"
      ],
      "metadata": {
        "colab": {
          "base_uri": "https://localhost:8080/"
        },
        "id": "L46a5azFFwo8",
        "outputId": "63856f0e-9b46-4afe-9fd4-1a6316670b89"
      },
      "execution_count": 5,
      "outputs": [
        {
          "output_type": "stream",
          "name": "stdout",
          "text": [
            "[1, 14, 22, 16, 43, 2, 2, 2, 2, 65, 458, 2, 66, 2, 4, 173, 36, 256, 5, 25, 100, 43, 2, 112, 50, 2, 2, 9, 35, 480, 284, 5, 150, 4, 172, 112, 167, 2, 336, 385, 39, 4, 172, 2, 2, 17, 2, 38, 13, 447, 4, 192, 50, 16, 6, 147, 2, 19, 14, 22, 4, 2, 2, 469, 4, 22, 71, 87, 12, 16, 43, 2, 38, 76, 15, 13, 2, 4, 22, 17, 2, 17, 12, 16, 2, 18, 2, 5, 62, 386, 12, 8, 316, 8, 106, 5, 4, 2, 2, 16, 480, 66, 2, 33, 4, 130, 12, 16, 38, 2, 5, 25, 124, 51, 36, 135, 48, 25, 2, 33, 6, 22, 12, 215, 28, 77, 52, 5, 14, 407, 16, 82, 2, 8, 4, 107, 117, 2, 15, 256, 4, 2, 7, 2, 5, 2, 36, 71, 43, 2, 476, 26, 400, 317, 46, 7, 4, 2, 2, 13, 104, 88, 4, 381, 15, 297, 98, 32, 2, 56, 26, 141, 6, 194, 2, 18, 4, 226, 22, 21, 134, 476, 26, 480, 5, 144, 30, 2, 18, 51, 36, 28, 224, 92, 25, 104, 4, 226, 65, 16, 38, 2, 88, 12, 16, 283, 5, 16, 2, 113, 103, 32, 15, 16, 2, 19, 178, 32]\n"
          ]
        }
      ]
    },
    {
      "cell_type": "code",
      "source": [
        "print(train_target[:20])"
      ],
      "metadata": {
        "colab": {
          "base_uri": "https://localhost:8080/"
        },
        "id": "PrN8ki41Fz5m",
        "outputId": "eb9078a9-877f-4357-d321-6d1a2df5aeff"
      },
      "execution_count": 6,
      "outputs": [
        {
          "output_type": "stream",
          "name": "stdout",
          "text": [
            "[1 0 0 1 0 0 1 0 1 0 1 0 0 0 0 0 1 1 0 1]\n"
          ]
        }
      ]
    },
    {
      "cell_type": "code",
      "source": [
        "from sklearn.model_selection import train_test_split\n",
        "train_input, val_input, train_target, val_target = train_test_split(train_input, train_target, test_size=0.2, random_state=42)"
      ],
      "metadata": {
        "id": "pd-z9nNOGEiW"
      },
      "execution_count": 7,
      "outputs": []
    },
    {
      "cell_type": "code",
      "source": [
        "import numpy as np\n",
        "lengths = np.array([len(x) for x in train_input])"
      ],
      "metadata": {
        "id": "6f9wmZxTGSnb"
      },
      "execution_count": 9,
      "outputs": []
    },
    {
      "cell_type": "code",
      "source": [
        "print(np.mean(lengths), np.median(lengths))"
      ],
      "metadata": {
        "colab": {
          "base_uri": "https://localhost:8080/"
        },
        "id": "1AzpOudMGbPR",
        "outputId": "91c30df9-db26-4ec5-ae83-993ffc786e5e"
      },
      "execution_count": 10,
      "outputs": [
        {
          "output_type": "stream",
          "name": "stdout",
          "text": [
            "239.00925 178.0\n"
          ]
        }
      ]
    },
    {
      "cell_type": "code",
      "source": [
        "import matplotlib.pyplot as plt\n",
        "plt.hist(lengths)\n",
        "plt.xlabel('length')\n",
        "plt.ylabel('frequency')\n",
        "plt.show()"
      ],
      "metadata": {
        "colab": {
          "base_uri": "https://localhost:8080/",
          "height": 278
        },
        "id": "iTGzYv9tGhI5",
        "outputId": "7b8f3f84-8802-463d-e7e6-3003fb946cbd"
      },
      "execution_count": 11,
      "outputs": [
        {
          "output_type": "display_data",
          "data": {
            "text/plain": [
              "<Figure size 432x288 with 1 Axes>"
            ],
            "image/png": "[encoded data removed]"
          },
          "metadata": {
            "needs_background": "light"
          }
        }
      ]
    },
    {
      "cell_type": "code",
      "source": [
        "from tensorflow.keras.preprocessing.sequence import pad_sequences\n",
        "train_seq = pad_sequences(train_input, maxlen=100)"
      ],
      "metadata": {
        "id": "z0IIXhuuGrSP"
      },
      "execution_count": 12,
      "outputs": []
    },
    {
      "cell_type": "code",
      "source": [
        "print(train_seq.shape)"
      ],
      "metadata": {
        "colab": {
          "base_uri": "https://localhost:8080/"
        },
        "id": "NUkEx59NG6NU",
        "outputId": "3face3ab-6ad9-4a4c-e2a1-ce696774f714"
      },
      "execution_count": 13,
      "outputs": [
        {
          "output_type": "stream",
          "name": "stdout",
          "text": [
            "(20000, 100)\n"
          ]
        }
      ]
    },
    {
      "cell_type": "code",
      "source": [
        "print(train_seq[0])"
      ],
      "metadata": {
        "colab": {
          "base_uri": "https://localhost:8080/"
        },
        "id": "nJ1bmkVhG8dA",
        "outputId": "939802b4-e3d3-4dc0-86f5-39c1016e2e7f"
      },
      "execution_count": 14,
      "outputs": [
        {
          "output_type": "stream",
          "name": "stdout",
          "text": [
            "[ 10   4  20   9   2 364 352   5  45   6   2   2  33 269   8   2 142   2\n",
            "   5   2  17  73  17 204   5   2  19  55   2   2  92  66 104  14  20  93\n",
            "  76   2 151  33   4  58  12 188   2 151  12 215  69 224 142  73 237   6\n",
            "   2   7   2   2 188   2 103  14  31  10  10 451   7   2   5   2  80  91\n",
            "   2  30   2  34  14  20 151  50  26 131  49   2  84  46  50  37  80  79\n",
            "   6   2  46   7  14  20  10  10 470 158]\n"
          ]
        }
      ]
    },
    {
      "cell_type": "code",
      "source": [
        "print(train_seq[5])"
      ],
      "metadata": {
        "colab": {
          "base_uri": "https://localhost:8080/"
        },
        "id": "aLF3cvyLHALy",
        "outputId": "05ebf6d0-f6b2-4cb1-b350-f03fa624cfa0"
      },
      "execution_count": 15,
      "outputs": [
        {
          "output_type": "stream",
          "name": "stdout",
          "text": [
            "[  0   0   0   0   1   2 195  19  49   2   2 190   4   2 352   2 183  10\n",
            "  10  13  82  79   4   2  36  71 269   8   2  25  19  49   7   4   2   2\n",
            "   2   2   2  10  10  48  25  40   2  11   2   2  40   2   2   5   4   2\n",
            "   2  95  14 238  56 129   2  10  10  21   2  94 364 352   2   2  11 190\n",
            "  24 484   2   7  94 205 405  10  10  87   2  34  49   2   7   2   2   2\n",
            "   2   2 290   2  46  48  64  18   4   2]\n"
          ]
        }
      ]
    },
    {
      "cell_type": "code",
      "source": [
        "val_seq = pad_sequences(val_input, maxlen=100)"
      ],
      "metadata": {
        "id": "835MOWLjHHOG"
      },
      "execution_count": 16,
      "outputs": []
    },
    {
      "cell_type": "markdown",
      "source": [
        "## 순환 신경망 만들기"
      ],
      "metadata": {
        "id": "MtirGMDuK641"
      }
    },
    {
      "cell_type": "code",
      "source": [
        "from tensorflow import keras\n",
        "model = keras.Sequential()\n",
        "model.add(keras.layers.SimpleRNN(8, input_shape=(100, 500)))\n",
        "model.add(keras.layers.Dense(1, activation='sigmoid'))"
      ],
      "metadata": {
        "id": "cIz4VSJsHONF"
      },
      "execution_count": 17,
      "outputs": []
    },
    {
      "cell_type": "code",
      "source": [
        "train_oh = keras.utils.to_categorical(train_seq)"
      ],
      "metadata": {
        "id": "m9jUx15bH3IL"
      },
      "execution_count": 18,
      "outputs": []
    },
    {
      "cell_type": "code",
      "source": [
        "print(train_oh.shape)"
      ],
      "metadata": {
        "colab": {
          "base_uri": "https://localhost:8080/"
        },
        "id": "yfqMf49vH6JE",
        "outputId": "44138717-031c-41e9-c381-001ac6f7e19e"
      },
      "execution_count": 19,
      "outputs": [
        {
          "output_type": "stream",
          "name": "stdout",
          "text": [
            "(20000, 100, 500)\n"
          ]
        }
      ]
    },
    {
      "cell_type": "code",
      "source": [
        "print(train_oh[0][0][:12])"
      ],
      "metadata": {
        "colab": {
          "base_uri": "https://localhost:8080/"
        },
        "id": "lpgsUpoGH9gT",
        "outputId": "5436f8d9-ac8e-4a59-8bdc-0696c2e2ab14"
      },
      "execution_count": 20,
      "outputs": [
        {
          "output_type": "stream",
          "name": "stdout",
          "text": [
            "[0. 0. 0. 0. 0. 0. 0. 0. 0. 0. 1. 0.]\n"
          ]
        }
      ]
    },
    {
      "cell_type": "code",
      "source": [
        "print(np.sum(train_oh[0][0]))"
      ],
      "metadata": {
        "colab": {
          "base_uri": "https://localhost:8080/"
        },
        "id": "8GJkGh_AIG4W",
        "outputId": "19664692-0b72-43eb-866f-ca1ae89044ca"
      },
      "execution_count": 21,
      "outputs": [
        {
          "output_type": "stream",
          "name": "stdout",
          "text": [
            "1.0\n"
          ]
        }
      ]
    },
    {
      "cell_type": "code",
      "source": [
        "val_oh = keras.utils.to_categorical(val_seq)"
      ],
      "metadata": {
        "id": "9p-Mk63pIKYb"
      },
      "execution_count": 22,
      "outputs": []
    },
    {
      "cell_type": "code",
      "source": [
        "model.summary()"
      ],
      "metadata": {
        "colab": {
          "base_uri": "https://localhost:8080/"
        },
        "id": "nyuy6bT8IPyJ",
        "outputId": "0562b5c1-3073-41d5-d4b5-c12502d891cb"
      },
      "execution_count": 23,
      "outputs": [
        {
          "output_type": "stream",
          "name": "stdout",
          "text": [
            "Model: \"sequential\"\n",
            "_________________________________________________________________\n",
            " Layer (type)                Output Shape              Param #   \n",
            "=================================================================\n",
            " simple_rnn (SimpleRNN)      (None, 8)                 4072      \n",
            "                                                                 \n",
            " dense (Dense)               (None, 1)                 9         \n",
            "                                                                 \n",
            "=================================================================\n",
            "Total params: 4,081\n",
            "Trainable params: 4,081\n",
            "Non-trainable params: 0\n",
            "_________________________________________________________________\n"
          ]
        }
      ]
    },
    {
      "cell_type": "markdown",
      "source": [
        "## 순환 신경망 훈련하기"
      ],
      "metadata": {
        "id": "Lti-5QHMK-bA"
      }
    },
    {
      "cell_type": "code",
      "source": [
        "rmsprop = keras.optimizers.RMSprop(learning_rate=1e-4)\n",
        "model.compile(optimizer=rmsprop, loss='binary_crossentropy', metrics=['accuracy'])\n",
        "checkpoint_cb = keras.callbacks.ModelCheckpoint(\"best_simplernn-model.h5\")\n",
        "early_stopping_cb = keras.callbacks.EarlyStopping(patience=3, restore_best_weights=True)\n",
        "history = model.fit(train_oh, train_target, epochs=100, batch_size=64, validation_data=(val_oh, val_target), callbacks=[checkpoint_cb, early_stopping_cb])"
      ],
      "metadata": {
        "colab": {
          "base_uri": "https://localhost:8080/"
        },
        "id": "Gni1tKI-ISnY",
        "outputId": "56b35d39-dd64-4e2c-b650-06d401ff06b2"
      },
      "execution_count": 24,
      "outputs": [
        {
          "output_type": "stream",
          "name": "stdout",
          "text": [
            "Epoch 1/100\n",
            "313/313 [==============================] - 28s 82ms/step - loss: 0.6937 - accuracy: 0.5192 - val_loss: 0.6831 - val_accuracy: 0.5518\n",
            "Epoch 2/100\n",
            "313/313 [==============================] - 25s 80ms/step - loss: 0.6650 - accuracy: 0.5970 - val_loss: 0.6520 - val_accuracy: 0.6178\n",
            "Epoch 3/100\n",
            "313/313 [==============================] - 23s 74ms/step - loss: 0.6352 - accuracy: 0.6496 - val_loss: 0.6240 - val_accuracy: 0.6592\n",
            "Epoch 4/100\n",
            "313/313 [==============================] - 15s 47ms/step - loss: 0.6038 - accuracy: 0.6891 - val_loss: 0.5975 - val_accuracy: 0.6922\n",
            "Epoch 5/100\n",
            "313/313 [==============================] - 14s 46ms/step - loss: 0.5797 - accuracy: 0.7154 - val_loss: 0.5777 - val_accuracy: 0.7116\n",
            "Epoch 6/100\n",
            "313/313 [==============================] - 14s 46ms/step - loss: 0.5594 - accuracy: 0.7326 - val_loss: 0.5576 - val_accuracy: 0.7286\n",
            "Epoch 7/100\n",
            "313/313 [==============================] - 19s 60ms/step - loss: 0.5410 - accuracy: 0.7463 - val_loss: 0.5449 - val_accuracy: 0.7362\n",
            "Epoch 8/100\n",
            "313/313 [==============================] - 22s 72ms/step - loss: 0.5248 - accuracy: 0.7598 - val_loss: 0.5303 - val_accuracy: 0.7484\n",
            "Epoch 9/100\n",
            "313/313 [==============================] - 21s 67ms/step - loss: 0.5118 - accuracy: 0.7663 - val_loss: 0.5188 - val_accuracy: 0.7560\n",
            "Epoch 10/100\n",
            "313/313 [==============================] - 14s 44ms/step - loss: 0.4992 - accuracy: 0.7743 - val_loss: 0.5101 - val_accuracy: 0.7630\n",
            "Epoch 11/100\n",
            "313/313 [==============================] - 16s 53ms/step - loss: 0.4891 - accuracy: 0.7775 - val_loss: 0.4989 - val_accuracy: 0.7714\n",
            "Epoch 12/100\n",
            "313/313 [==============================] - 15s 47ms/step - loss: 0.4792 - accuracy: 0.7834 - val_loss: 0.4969 - val_accuracy: 0.7612\n",
            "Epoch 13/100\n",
            "313/313 [==============================] - 15s 48ms/step - loss: 0.4719 - accuracy: 0.7875 - val_loss: 0.4883 - val_accuracy: 0.7694\n",
            "Epoch 14/100\n",
            "313/313 [==============================] - 25s 79ms/step - loss: 0.4649 - accuracy: 0.7896 - val_loss: 0.4840 - val_accuracy: 0.7684\n",
            "Epoch 15/100\n",
            "313/313 [==============================] - 24s 76ms/step - loss: 0.4588 - accuracy: 0.7934 - val_loss: 0.4791 - val_accuracy: 0.7762\n",
            "Epoch 16/100\n",
            "313/313 [==============================] - 20s 63ms/step - loss: 0.4533 - accuracy: 0.7970 - val_loss: 0.4725 - val_accuracy: 0.7810\n",
            "Epoch 17/100\n",
            "313/313 [==============================] - 20s 63ms/step - loss: 0.4483 - accuracy: 0.7987 - val_loss: 0.4751 - val_accuracy: 0.7810\n",
            "Epoch 18/100\n",
            "313/313 [==============================] - 24s 76ms/step - loss: 0.4444 - accuracy: 0.8008 - val_loss: 0.4798 - val_accuracy: 0.7766\n",
            "Epoch 19/100\n",
            "313/313 [==============================] - 25s 80ms/step - loss: 0.4408 - accuracy: 0.8022 - val_loss: 0.4665 - val_accuracy: 0.7772\n",
            "Epoch 20/100\n",
            "313/313 [==============================] - 26s 82ms/step - loss: 0.4381 - accuracy: 0.8039 - val_loss: 0.4630 - val_accuracy: 0.7796\n",
            "Epoch 21/100\n",
            "313/313 [==============================] - 24s 76ms/step - loss: 0.4348 - accuracy: 0.8055 - val_loss: 0.4612 - val_accuracy: 0.7866\n",
            "Epoch 22/100\n",
            "313/313 [==============================] - 25s 80ms/step - loss: 0.4325 - accuracy: 0.8083 - val_loss: 0.4580 - val_accuracy: 0.7888\n",
            "Epoch 23/100\n",
            "313/313 [==============================] - 25s 78ms/step - loss: 0.4299 - accuracy: 0.8094 - val_loss: 0.4567 - val_accuracy: 0.7898\n",
            "Epoch 24/100\n",
            "313/313 [==============================] - 16s 51ms/step - loss: 0.4277 - accuracy: 0.8091 - val_loss: 0.4570 - val_accuracy: 0.7894\n",
            "Epoch 25/100\n",
            "313/313 [==============================] - 15s 47ms/step - loss: 0.4260 - accuracy: 0.8097 - val_loss: 0.4529 - val_accuracy: 0.7910\n",
            "Epoch 26/100\n",
            "313/313 [==============================] - 15s 47ms/step - loss: 0.4240 - accuracy: 0.8110 - val_loss: 0.4550 - val_accuracy: 0.7878\n",
            "Epoch 27/100\n",
            "313/313 [==============================] - 14s 44ms/step - loss: 0.4222 - accuracy: 0.8122 - val_loss: 0.4507 - val_accuracy: 0.7912\n",
            "Epoch 28/100\n",
            "313/313 [==============================] - 14s 45ms/step - loss: 0.4207 - accuracy: 0.8144 - val_loss: 0.4548 - val_accuracy: 0.7876\n",
            "Epoch 29/100\n",
            "313/313 [==============================] - 14s 45ms/step - loss: 0.4191 - accuracy: 0.8137 - val_loss: 0.4558 - val_accuracy: 0.7880\n",
            "Epoch 30/100\n",
            "313/313 [==============================] - 14s 45ms/step - loss: 0.4181 - accuracy: 0.8141 - val_loss: 0.4559 - val_accuracy: 0.7868\n"
          ]
        }
      ]
    },
    {
      "cell_type": "code",
      "source": [
        "plt.plot(history.history['loss'])\n",
        "plt.plot(history.history['val_loss'])\n",
        "plt.xlabel('epoch')\n",
        "plt.ylabel('loss')\n",
        "plt.legend(['train', 'val'])\n",
        "plt.show()"
      ],
      "metadata": {
        "colab": {
          "base_uri": "https://localhost:8080/",
          "height": 278
        },
        "id": "4M84Da-uJIBz",
        "outputId": "1d8af0dc-d6b8-4812-86c9-325fe352abfc"
      },
      "execution_count": 25,
      "outputs": [
        {
          "output_type": "display_data",
          "data": {
            "text/plain": [
              "<Figure size 432x288 with 1 Axes>"
            ],
            "image/png": "[encoded data removed]"
          },
          "metadata": {
            "needs_background": "light"
          }
        }
      ]
    },
    {
      "cell_type": "markdown",
      "source": [
        "## 단어 임베딩을 사용하기"
      ],
      "metadata": {
        "id": "vOa7pXg2LCVL"
      }
    },
    {
      "cell_type": "code",
      "source": [
        "model2 = keras.Sequential()\n",
        "model2.add(keras.layers.Embedding(500, 16, input_length=100))\n",
        "model2.add(keras.layers.SimpleRNN(8))\n",
        "model2.add(keras.layers.Dense(1, activation='sigmoid'))"
      ],
      "metadata": {
        "id": "02uaoZsvJnDd"
      },
      "execution_count": 29,
      "outputs": []
    },
    {
      "cell_type": "code",
      "source": [
        "model2.summary()"
      ],
      "metadata": {
        "colab": {
          "base_uri": "https://localhost:8080/"
        },
        "id": "7erAUACFJ0A1",
        "outputId": "40b80226-373c-4dc5-f514-ac8cad587351"
      },
      "execution_count": 30,
      "outputs": [
        {
          "output_type": "stream",
          "name": "stdout",
          "text": [
            "Model: \"sequential_3\"\n",
            "_________________________________________________________________\n",
            " Layer (type)                Output Shape              Param #   \n",
            "=================================================================\n",
            " embedding_1 (Embedding)     (None, 100, 16)           8000      \n",
            "                                                                 \n",
            " simple_rnn_2 (SimpleRNN)    (None, 8)                 200       \n",
            "                                                                 \n",
            " dense_2 (Dense)             (None, 1)                 9         \n",
            "                                                                 \n",
            "=================================================================\n",
            "Total params: 8,209\n",
            "Trainable params: 8,209\n",
            "Non-trainable params: 0\n",
            "_________________________________________________________________\n"
          ]
        }
      ]
    },
    {
      "cell_type": "code",
      "source": [
        "rmsprop = keras.optimizers.RMSprop(learning_rate=1e-4)\n",
        "model2.compile(optimizer=rmsprop, loss='binary_crossentropy', metrics=['accuracy'])\n",
        "checkpoint_cb = keras.callbacks.ModelCheckpoint('best-embedding-model.h5')\n",
        "early_stopping_cb = keras.callbacks.EarlyStopping(patience=3, restore_best_weights=True)\n",
        "history = model2.fit(train_seq, train_target, epochs=100, batch_size=64, validation_data=(val_seq, val_target), callbacks=[checkpoint_cb, early_stopping_cb])"
      ],
      "metadata": {
        "colab": {
          "base_uri": "https://localhost:8080/"
        },
        "id": "tve2GcmKJ6zG",
        "outputId": "01c95a08-b2e5-418b-de2f-581694be71a3"
      },
      "execution_count": 31,
      "outputs": [
        {
          "output_type": "stream",
          "name": "stdout",
          "text": [
            "Epoch 1/100\n",
            "313/313 [==============================] - 9s 24ms/step - loss: 0.6695 - accuracy: 0.5836 - val_loss: 0.6251 - val_accuracy: 0.6700\n",
            "Epoch 2/100\n",
            "313/313 [==============================] - 7s 23ms/step - loss: 0.5955 - accuracy: 0.7072 - val_loss: 0.5817 - val_accuracy: 0.7292\n",
            "Epoch 3/100\n",
            "313/313 [==============================] - 7s 24ms/step - loss: 0.5590 - accuracy: 0.7492 - val_loss: 0.5530 - val_accuracy: 0.7490\n",
            "Epoch 4/100\n",
            "313/313 [==============================] - 7s 24ms/step - loss: 0.5366 - accuracy: 0.7655 - val_loss: 0.5387 - val_accuracy: 0.7570\n",
            "Epoch 5/100\n",
            "313/313 [==============================] - 7s 24ms/step - loss: 0.5194 - accuracy: 0.7756 - val_loss: 0.5223 - val_accuracy: 0.7746\n",
            "Epoch 6/100\n",
            "313/313 [==============================] - 7s 24ms/step - loss: 0.5055 - accuracy: 0.7844 - val_loss: 0.5111 - val_accuracy: 0.7730\n",
            "Epoch 7/100\n",
            "313/313 [==============================] - 7s 23ms/step - loss: 0.4938 - accuracy: 0.7899 - val_loss: 0.5035 - val_accuracy: 0.7764\n",
            "Epoch 8/100\n",
            "313/313 [==============================] - 7s 23ms/step - loss: 0.4830 - accuracy: 0.7950 - val_loss: 0.4938 - val_accuracy: 0.7794\n",
            "Epoch 9/100\n",
            "313/313 [==============================] - 7s 22ms/step - loss: 0.4732 - accuracy: 0.7998 - val_loss: 0.4868 - val_accuracy: 0.7812\n",
            "Epoch 10/100\n",
            "313/313 [==============================] - 7s 24ms/step - loss: 0.4650 - accuracy: 0.8019 - val_loss: 0.4883 - val_accuracy: 0.7780\n",
            "Epoch 11/100\n",
            "313/313 [==============================] - 7s 24ms/step - loss: 0.4579 - accuracy: 0.8047 - val_loss: 0.4811 - val_accuracy: 0.7820\n",
            "Epoch 12/100\n",
            "313/313 [==============================] - 7s 23ms/step - loss: 0.4515 - accuracy: 0.8084 - val_loss: 0.4738 - val_accuracy: 0.7784\n",
            "Epoch 13/100\n",
            "313/313 [==============================] - 7s 23ms/step - loss: 0.4453 - accuracy: 0.8088 - val_loss: 0.4706 - val_accuracy: 0.7862\n",
            "Epoch 14/100\n",
            "313/313 [==============================] - 7s 23ms/step - loss: 0.4403 - accuracy: 0.8116 - val_loss: 0.4685 - val_accuracy: 0.7846\n",
            "Epoch 15/100\n",
            "313/313 [==============================] - 7s 23ms/step - loss: 0.4353 - accuracy: 0.8123 - val_loss: 0.4661 - val_accuracy: 0.7852\n",
            "Epoch 16/100\n",
            "313/313 [==============================] - 7s 22ms/step - loss: 0.4306 - accuracy: 0.8126 - val_loss: 0.4653 - val_accuracy: 0.7860\n",
            "Epoch 17/100\n",
            "313/313 [==============================] - 7s 23ms/step - loss: 0.4268 - accuracy: 0.8167 - val_loss: 0.4633 - val_accuracy: 0.7882\n",
            "Epoch 18/100\n",
            "313/313 [==============================] - 7s 23ms/step - loss: 0.4239 - accuracy: 0.8191 - val_loss: 0.4619 - val_accuracy: 0.7888\n",
            "Epoch 19/100\n",
            "313/313 [==============================] - 7s 23ms/step - loss: 0.4207 - accuracy: 0.8170 - val_loss: 0.4605 - val_accuracy: 0.7860\n",
            "Epoch 20/100\n",
            "313/313 [==============================] - 8s 25ms/step - loss: 0.4174 - accuracy: 0.8191 - val_loss: 0.4603 - val_accuracy: 0.7894\n",
            "Epoch 21/100\n",
            "313/313 [==============================] - 7s 23ms/step - loss: 0.4152 - accuracy: 0.8210 - val_loss: 0.4594 - val_accuracy: 0.7890\n",
            "Epoch 22/100\n",
            "313/313 [==============================] - 7s 23ms/step - loss: 0.4124 - accuracy: 0.8206 - val_loss: 0.4572 - val_accuracy: 0.7880\n",
            "Epoch 23/100\n",
            "313/313 [==============================] - 7s 24ms/step - loss: 0.4098 - accuracy: 0.8243 - val_loss: 0.4616 - val_accuracy: 0.7922\n",
            "Epoch 24/100\n",
            "313/313 [==============================] - 7s 24ms/step - loss: 0.4077 - accuracy: 0.8253 - val_loss: 0.4631 - val_accuracy: 0.7882\n",
            "Epoch 25/100\n",
            "313/313 [==============================] - 7s 23ms/step - loss: 0.4057 - accuracy: 0.8251 - val_loss: 0.4655 - val_accuracy: 0.7882\n"
          ]
        }
      ]
    },
    {
      "cell_type": "code",
      "source": [
        "plt.plot(history.history['loss'])\n",
        "plt.plot(history.history['val_loss'])\n",
        "plt.xlabel('epoch')\n",
        "plt.ylabel('loss')\n",
        "plt.legend(['train', 'val'])\n",
        "plt.show()"
      ],
      "metadata": {
        "colab": {
          "base_uri": "https://localhost:8080/",
          "height": 278
        },
        "id": "W_WpI1nwKre5",
        "outputId": "dfa96543-6b55-4b56-c33e-7757f748e173"
      },
      "execution_count": 32,
      "outputs": [
        {
          "output_type": "display_data",
          "data": {
            "text/plain": [
              "<Figure size 432x288 with 1 Axes>"
            ],
            "image/png": "[encoded data removed]"
          },
          "metadata": {
            "needs_background": "light"
          }
        }
      ]
    }
  ]
}